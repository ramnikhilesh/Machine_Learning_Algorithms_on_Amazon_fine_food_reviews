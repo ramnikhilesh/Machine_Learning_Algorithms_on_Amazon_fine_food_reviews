{
 "cells": [
  {
   "cell_type": "code",
   "execution_count": 1,
   "metadata": {},
   "outputs": [
    {
     "name": "stderr",
     "output_type": "stream",
     "text": [
      "C:\\Users\\Ram Nikhilesh\\Anaconda3\\lib\\site-packages\\gensim\\utils.py:1197: UserWarning: detected Windows; aliasing chunkize to chunkize_serial\n",
      "  warnings.warn(\"detected Windows; aliasing chunkize to chunkize_serial\")\n",
      "C:\\Users\\Ram Nikhilesh\\Anaconda3\\lib\\site-packages\\sklearn\\cross_validation.py:41: DeprecationWarning: This module was deprecated in version 0.18 in favor of the model_selection module into which all the refactored classes and functions are moved. Also note that the interface of the new CV iterators are different from that of this module. This module will be removed in 0.20.\n",
      "  \"This module will be removed in 0.20.\", DeprecationWarning)\n",
      "C:\\Users\\Ram Nikhilesh\\Anaconda3\\lib\\site-packages\\sklearn\\grid_search.py:42: DeprecationWarning: This module was deprecated in version 0.18 in favor of the model_selection module into which all the refactored classes and functions are moved. This module will be removed in 0.20.\n",
      "  DeprecationWarning)\n"
     ]
    }
   ],
   "source": [
    "import warnings\n",
    "warnings.filterwarnings('ignore')\n",
    "\n",
    "import sqlite3\n",
    "import pandas as pd\n",
    "import numpy as np\n",
    "import matplotlib.pyplot as plt\n",
    "import nltk\n",
    "import seaborn as sns\n",
    "#import string\n",
    "from sklearn.feature_extraction.text import TfidfTransformer\n",
    "from sklearn.feature_extraction.text import TfidfVectorizer\n",
    "\n",
    "from sklearn.metrics import confusion_matrix\n",
    "from sklearn import metrics\n",
    "from sklearn.metrics import roc_curve, auc\n",
    "from nltk.stem.porter import PorterStemmer\n",
    "\n",
    "import re\n",
    "\n",
    "import string\n",
    "from nltk.corpus import stopwords\n",
    "from nltk.stem import PorterStemmer\n",
    "from nltk.stem.wordnet import WordNetLemmatizer\n",
    "\n",
    "from gensim.models import Word2Vec\n",
    "from gensim.models import KeyedVectors\n",
    "import pickle\n",
    "\n",
    "from tqdm import tqdm\n",
    "import os\n",
    "\n",
    "\n",
    "from sklearn import cross_validation\n",
    "from sklearn.model_selection import TimeSeriesSplit\n",
    "from sklearn.cross_validation import cross_val_score\n",
    "from sklearn.metrics import roc_auc_score\n",
    "from sklearn.feature_extraction.text import CountVectorizer\n",
    "from sklearn.metrics import accuracy_score\n",
    "from sklearn.linear_model import LogisticRegression\n",
    "from sklearn.grid_search import GridSearchCV\n",
    "from scipy.sparse import find\n",
    "from sklearn.calibration import CalibratedClassifierCV"
   ]
  },
  {
   "cell_type": "code",
   "execution_count": 2,
   "metadata": {},
   "outputs": [
    {
     "name": "stdout",
     "output_type": "stream",
     "text": [
      "(525814, 10)\n"
     ]
    }
   ],
   "source": [
    "con = sqlite3.connect(r\"C:\\Users\\Ram Nikhilesh\\Desktop\\ai class\\csv files\\td1\\database.sqlite\")\n",
    "filtered_data = pd.read_sql_query(\"\"\"select * from Reviews where Score != 3\"\"\",con)\n",
    "print(filtered_data.shape)\n",
    "def partition(x):\n",
    "    if x < 3:\n",
    "        return 0\n",
    "    return 1\n",
    "\n",
    "\n",
    "actualscore=filtered_data['Score']\n",
    "positivenegative=actualscore.map(partition)\n",
    "filtered_data['Score']=positivenegative\n",
    "filtered_data.shape\n",
    "sorted_data=filtered_data.sort_values('ProductId',axis=0,ascending=True,kind='mergsort',na_position='last')\n",
    "final=sorted_data.drop_duplicates(subset={\"UserId\",\"ProfileName\",\"Time\",\"Text\"},keep='first',inplace=False)\n",
    "stop = set(stopwords.words('english'))\n",
    "sno = nltk.stem.SnowballStemmer('english')\n",
    "\n",
    "def cleanhtml(sentence):\n",
    "    cleanr = re.compile('<.*?>')\n",
    "    cleantext = re.sub(cleanr,' ',sentence)\n",
    "    return cleantext\n",
    "\n",
    "def cleanpunc(sentence):\n",
    "    cleaned = re.sub(r'[?|!|\\'|\"|#]',r'',sentence)\n",
    "    cleaned = re.sub(r'[.|,|)|(|\\|/]',r' ',cleaned)\n",
    "    return  cleaned\n",
    "\n",
    "\n",
    "    \n",
    "    \n",
    "                                                            \n",
    "\n"
   ]
  },
  {
   "cell_type": "code",
   "execution_count": 3,
   "metadata": {},
   "outputs": [],
   "source": [
    "\n",
    "i=0\n",
    "str1=' '\n",
    "final_string=[]\n",
    "all_positive_words=[]\n",
    "all_negative_words=[]\n",
    "s=''\n",
    "for sent in (final['Text'].values):\n",
    "    filtered_sentence=[]\n",
    "    sent=cleanhtml(sent)\n",
    "        \n",
    "    for w in sent.split():\n",
    "        for cleaned_word in cleanpunc(w).split():\n",
    "            \n",
    "            if((cleaned_word.isalpha())&(len(cleaned_word) > 2)):\n",
    "                if((cleaned_word.lower()not in stop)):\n",
    "                    s=(sno.stem(cleaned_word.lower())).encode('utf-8')\n",
    "                    \n",
    "                    filtered_sentence.append(s)\n",
    "                    if(final['Score'].values)[i]=='positive':\n",
    "                        all_positive_words.append(s)\n",
    "                    if(final['Score'].values)[i]=='negative':\n",
    "                        all_negative_words.append(s)\n",
    "                else:\n",
    "                    continue\n",
    "            else:\n",
    "                continue\n",
    "        \n",
    "    str1=b\" \".join(filtered_sentence)\n",
    "    final_string.append(str1)\n",
    "    i+=1"
   ]
  },
  {
   "cell_type": "code",
   "execution_count": 4,
   "metadata": {},
   "outputs": [],
   "source": [
    "final['cleanedText']=final_string\n",
    "final['cleanedText']=final['cleanedText']\n",
    "conn = sqlite3.connect('final.sqlite')\n",
    "c=conn.cursor()\n",
    "conn.text_factory = str\n",
    "final.to_sql('Reviews', conn,  schema=None, if_exists='replace', \\\n",
    "                 index=True, index_label=None, chunksize=None, dtype=None)\n",
    "conn.close()"
   ]
  },
  {
   "cell_type": "code",
   "execution_count": 5,
   "metadata": {},
   "outputs": [],
   "source": [
    "if os.path.isfile('final.sqlite'):\n",
    "    conn=sqlite3.connect('final.sqlite')\n",
    "    final = pd.read_sql_query(\"\"\" SELECT * FROM Reviews WHERE Score != 3 \"\"\", conn)\n",
    "    conn.close()\n",
    "else:\n",
    "    print(\"Please the above cell\")\n",
    "    \n",
    "    \n",
    "  "
   ]
  },
  {
   "cell_type": "code",
   "execution_count": 6,
   "metadata": {},
   "outputs": [],
   "source": [
    "final_text=final['cleanedText']\n",
    "score=final['Score']\n",
    "final_100k=final_text[0:100000]\n",
    "score_100k=score[0:100000]\n",
    "tscv=TimeSeriesSplit(n_splits=2,max_train_size=70000)\n",
    "for train,test in tscv.split(final_100k):\n",
    "    x_train,x_test=final_100k[train],final_100k[test]\n",
    "    y_train,y_test=score_100k[train],score_100k[test]\n",
    "    "
   ]
  },
  {
   "cell_type": "code",
   "execution_count": 7,
   "metadata": {},
   "outputs": [],
   "source": [
    "count_vector=CountVectorizer()\n",
    "train_70k=count_vector.fit_transform(x_train)\n",
    "test_30k=count_vector.transform(x_test)"
   ]
  },
  {
   "cell_type": "code",
   "execution_count": null,
   "metadata": {},
   "outputs": [],
   "source": []
  },
  {
   "cell_type": "code",
   "execution_count": 16,
   "metadata": {},
   "outputs": [
    {
     "name": "stdout",
     "output_type": "stream",
     "text": [
      "\n",
      "The optimal alpha is 4.\n"
     ]
    },
    {
     "data": {
      "image/png": "[encoded data removed]",
      "text/plain": [
       "<Figure size 432x288 with 1 Axes>"
      ]
     },
     "metadata": {},
     "output_type": "display_data"
    }
   ],
   "source": [
    "l = list(range(1,101))\n",
    "cv_scores=[]\n",
    "auc_scores=[]\n",
    "for i in l:\n",
    "    model = LogisticRegression(C=1/i,penalty='l1')\n",
    "    model.fit(train_70k, y_train)\n",
    "    predict=model.predict_proba(train_70k)[:,1]\n",
    "    #print(predict)\n",
    "    scores = cross_val_score(model, train_70k, y_train, cv=4, scoring='roc_auc')\n",
    "    cv_scores.append(scores.mean())\n",
    "    auc1=metrics.roc_auc_score(y_train, predict)\n",
    "    auc_scores.append(auc1.mean())\n",
    "    \n",
    "mse=[x for x in cv_scores] \n",
    "optimal_lambda=l[mse.index(max(mse))]\n",
    "mse2=[y for y in auc_scores]\n",
    "optimal_alpha1=l[mse2.index(max(mse2))]\n",
    "print('\\nThe optimal alpha is %d.' % optimal_lambda)\n",
    "#print('\\nThe optimal alpha for train data  is %d.' % optimal_alpha1)\n",
    "plt.plot(l, mse,label=\"cv_auc\")\n",
    "plt.plot(l,mse2,label=\"train_auc\")\n",
    "plt.xlabel('lambda values')\n",
    "plt.ylabel('auc_score')\n",
    "plt.legend()\n",
    "plt.show()    \n",
    "    "
   ]
  },
  {
   "cell_type": "code",
   "execution_count": 27,
   "metadata": {},
   "outputs": [
    {
     "name": "stdout",
     "output_type": "stream",
     "text": [
      "Non Zero weights: 7566\n"
     ]
    },
    {
     "data": {
      "image/png": "[encoded data removed]",
      "text/plain": [
       "<Figure size 432x288 with 1 Axes>"
      ]
     },
     "metadata": {},
     "output_type": "display_data"
    },
    {
     "name": "stdout",
     "output_type": "stream",
     "text": [
      "90.60390603906039\n"
     ]
    }
   ],
   "source": [
    "\n",
    "\n",
    "model = LogisticRegression(C=4,penalty='l1')\n",
    "model.fit(train_70k, y_train)\n",
    "print(\"Non Zero weights:\",np.count_nonzero(model.coef_))\n",
    "predict=model.predict_proba(test_30k)[:,1]\n",
    "predict1=model.predict_proba(train_70k)[:,1]\n",
    "#acc = accuracy_score(y_test, predict, normalize=True) * float(100)\n",
    "fpr,tpr,_ = metrics.roc_curve(y_test,predict[:])\n",
    "fpr1,tpr1,_ = metrics.roc_curve(y_train,predict1[:])\n",
    "auc= metrics.roc_auc_score(y_test,predict)\n",
    "auc1= metrics.roc_auc_score(y_train,predict1)\n",
    "plt.plot(fpr,tpr,label=\"test, auc=\"+str(auc))\n",
    "plt.plot(fpr1,tpr1,label=\"train, auc1=\"+str(auc1))\n",
    "plt.plot([0, 1], [0, 1],'r--')\n",
    "plt.legend()\n",
    "plt.show()\n",
    "print(acc)"
   ]
  },
  {
   "cell_type": "code",
   "execution_count": 56,
   "metadata": {},
   "outputs": [
    {
     "data": {
      "image/png": "[encoded data removed]",
      "text/plain": [
       "<Figure size 432x288 with 2 Axes>"
      ]
     },
     "metadata": {},
     "output_type": "display_data"
    }
   ],
   "source": [
    "sample=confusion_matrix(y_test,predict)\n",
    "ax=sns.heatmap(sample,annot=True,fmt=\"d\") "
   ]
  },
  {
   "cell_type": "markdown",
   "metadata": {},
   "source": [
    "# The non zero weights are : 7587"
   ]
  },
  {
   "cell_type": "markdown",
   "metadata": {},
   "source": [
    "# pertubation test"
   ]
  },
  {
   "cell_type": "code",
   "execution_count": 64,
   "metadata": {},
   "outputs": [
    {
     "name": "stdout",
     "output_type": "stream",
     "text": [
      "[ 2.55200665e-03  1.37544451e-03 -1.48149986e-02  3.09560495e-04\n",
      "  3.08672273e-04  1.41758180e-06  3.72434273e-04  8.75944831e-03\n",
      "  1.00270733e-03  4.06123618e-03  1.70223205e-03 -7.45796321e-03\n",
      "  1.17950263e-03  3.58903538e-03  1.92224101e-03 -2.29057768e-02\n",
      "  1.58471771e-03 -6.67701226e-03 -6.65916564e-03  4.95837280e-04\n",
      " -8.78976318e-04  5.48274054e-04  1.19439304e-02  1.17056199e-03\n",
      "  6.38953040e-04  1.67363299e-01  2.63043881e-03  1.86189163e-03\n",
      " -2.25093387e-02  1.07248212e-03  2.31572297e-03 -8.20998817e-03\n",
      "  3.21111169e-03  7.30533972e-04  3.14736195e-03 -3.04906721e-03\n",
      " -2.39172705e-03  5.27682192e-04 -7.38556721e-02  3.64974852e-03\n",
      "  4.40076632e-02  3.91110535e-04  5.13991185e-03 -5.95221692e-03\n",
      " -7.10033127e-03  6.09489362e-03  2.58695868e-03 -1.95466124e-02\n",
      "  1.21745137e-03  5.60314102e-03]\n",
      "17818\n"
     ]
    }
   ],
   "source": [
    "\n",
    "weights1 = find(model.coef_[0])[2]\n",
    "print(weights1[:50])\n",
    "print(weights1.size)"
   ]
  },
  {
   "cell_type": "code",
   "execution_count": 62,
   "metadata": {},
   "outputs": [],
   "source": [
    "X_train_t = train_70k\n",
    "epsilon = np.random.uniform(low=-0.000001, high=0.000001, size=(find(X_train_t)[0].size,))\n",
    "a,b,c = find(X_train_t)\n",
    "X_train_t[a,b] = epsilon + X_train_t[a,b]"
   ]
  },
  {
   "cell_type": "code",
   "execution_count": 63,
   "metadata": {},
   "outputs": [
    {
     "name": "stdout",
     "output_type": "stream",
     "text": [
      "[ 2.55200665e-03  1.37544451e-03 -1.48149986e-02  3.09560495e-04\n",
      "  3.08672273e-04  1.41758180e-06  3.72434273e-04  8.75944831e-03\n",
      "  1.00270733e-03  4.06123618e-03  1.70223205e-03 -7.45796321e-03\n",
      "  1.17950263e-03  3.58903538e-03  1.92224101e-03 -2.29057768e-02\n",
      "  1.58471771e-03 -6.67701226e-03 -6.65916564e-03  4.95837280e-04\n",
      " -8.78976318e-04  5.48274054e-04  1.19439304e-02  1.17056199e-03\n",
      "  6.38953040e-04  1.67363299e-01  2.63043881e-03  1.86189163e-03\n",
      " -2.25093387e-02  1.07248212e-03  2.31572297e-03 -8.20998817e-03\n",
      "  3.21111169e-03  7.30533972e-04  3.14736195e-03 -3.04906721e-03\n",
      " -2.39172705e-03  5.27682192e-04 -7.38556721e-02  3.64974852e-03\n",
      "  4.40076632e-02  3.91110535e-04  5.13991185e-03 -5.95221692e-03\n",
      " -7.10033127e-03  6.09489362e-03  2.58695868e-03 -1.95466124e-02\n",
      "  1.21745137e-03  5.60314102e-03]\n",
      "17818\n",
      "0 -0.9152432513188516\n",
      "10 -0.013625063391488258\n",
      "20 -0.006007370730104004\n",
      "30 1.499830133965621e-05\n",
      "40 0.0006067785711521069\n",
      "50 0.0011361927649140842\n",
      "60 0.0016180038730784622\n",
      "70 0.002551952698097503\n",
      "80 0.004736048865647355\n",
      "90 0.012209273524988297\n",
      "100 0.8736818821913326\n",
      "----------------------------------------\n",
      "90 = 0.012209273524988297\n",
      "91 = 0.013712842408361004\n",
      "92 = 0.01579405384745111\n",
      "93 = 0.018471033114292705\n",
      "94 = 0.02205533911049893\n",
      "95 = 0.02734439753177373\n",
      "96 = 0.033948115801319186\n",
      "97 = 0.04396439984660825\n",
      "98 = 0.06250200263768967\n",
      "99 = 0.10443923064010525\n"
     ]
    }
   ],
   "source": [
    "model = LogisticRegression(C=0.01,penalty='l2')\n",
    "model.fit(X_train_t, y_train)\n",
    "predict=model.predict(test_30k)\n",
    "acc = accuracy_score(y_test, predict, normalize=True) * float(100)\n",
    "weights2 = find(model.coef_[0])[2]\n",
    "print(weights2[:50])\n",
    "print(weights2.size)\n",
    "for i in range(0,101,10):\n",
    "    p = np.percentile(weights2, i)\n",
    "    print(i,p)\n",
    "print(\"----------------------------------------\")    \n",
    "for j in np.arange(90,100,1):\n",
    "    k = np.percentile(weights2,j)\n",
    "    print(j,\"=\",k)"
   ]
  },
  {
   "cell_type": "code",
   "execution_count": 65,
   "metadata": {},
   "outputs": [
    {
     "name": "stdout",
     "output_type": "stream",
     "text": [
      "0\n"
     ]
    }
   ],
   "source": [
    "weights_diff = (abs(weights1 - weights2)/weights1) \n",
    "print(weights_diff[np.where(weights_diff > 0.05)].size)\n",
    "b = np.percentile(weights2,98)\n",
    "#if (model.coef_[0].any() > 0.05):\n",
    "#    print(count_vector.get_feature_names())\n",
    "\n",
    "\n",
    "    "
   ]
  },
  {
   "cell_type": "code",
   "execution_count": 19,
   "metadata": {},
   "outputs": [
    {
     "name": "stdout",
     "output_type": "stream",
     "text": [
      "\t\t\tNegative\t\t\t\t\t\tPositive\n",
      "----------------------------------------\n",
      "\t-1.1040\tdisappoint     \t\t\t\t0.9079\tgreat          \n",
      "\t-0.7437\treturn         \t\t\t\t0.7816\tdelici         \n",
      "\t-0.6881\tworst          \t\t\t\t0.7668\tbest           \n",
      "\t-0.6710\tterribl        \t\t\t\t0.6977\tperfect        \n",
      "\t-0.6584\thorribl        \t\t\t\t0.6600\tlove           \n",
      "\t-0.6463\tmoney          \t\t\t\t0.6158\texcel          \n",
      "\t-0.6132\twast           \t\t\t\t0.5299\tfavorit        \n",
      "\t-0.5819\taw             \t\t\t\t0.5274\tnice           \n",
      "\t-0.5763\tbad            \t\t\t\t0.4740\teasi           \n",
      "\t-0.5679\tunfortun       \t\t\t\t0.4560\twonder         \n"
     ]
    }
   ],
   "source": [
    "def positive_negative_words(count_vector, model, n=10):\n",
    "    feature_names = count_vector.get_feature_names()\n",
    "    coefs_with_fns = sorted(zip(model.coef_[0], feature_names))\n",
    "    top = zip(coefs_with_fns[:n], coefs_with_fns[:-(n + 1):-1])\n",
    "    print(\"\\t\\t\\tNegative\\t\\t\\t\\t\\t\\tPositive\")\n",
    "    print(\"----------------------------------------\")\n",
    "    for (coef_1, fn_1), (coef_2, fn_2) in top:\n",
    "        print(\"\\t%.4f\\t%-15s\\t\\t\\t\\t%.4f\\t%-15s\" % (coef_1, fn_1, coef_2, fn_2))\n",
    "        \n",
    "positive_negative_words(count_vector,model)\n"
   ]
  },
  {
   "cell_type": "code",
   "execution_count": 21,
   "metadata": {},
   "outputs": [],
   "source": [
    "tfidf_vect=TfidfVectorizer(ngram_range=(1,1))\n",
    "tf_train70k=tfidf_vect.fit_transform(x_train)\n",
    "tf_test30k=tfidf_vect.transform(x_test)"
   ]
  },
  {
   "cell_type": "code",
   "execution_count": null,
   "metadata": {},
   "outputs": [],
   "source": []
  },
  {
   "cell_type": "code",
   "execution_count": 23,
   "metadata": {},
   "outputs": [
    {
     "name": "stdout",
     "output_type": "stream",
     "text": [
      "\n",
      "The optimal alpha is 1.\n"
     ]
    },
    {
     "data": {
      "image/png": "[encoded data removed]",
      "text/plain": [
       "<Figure size 432x288 with 1 Axes>"
      ]
     },
     "metadata": {},
     "output_type": "display_data"
    }
   ],
   "source": [
    "l = list(range(1,101))\n",
    "cv_scores=[]\n",
    "auc_scores=[]\n",
    "for i in l:\n",
    "    model1 = LogisticRegression(C=1/i)\n",
    "    model1.fit(tf_train70k, y_train)\n",
    "    predict=model.predict_proba(tf_train70k)[:,1]\n",
    "    scores = cross_val_score(model1, tf_train70k, y_train, cv=4, scoring='roc_auc')\n",
    "    cv_scores.append(scores.mean())\n",
    "    auc1=metrics.roc_auc_score(y_train, predict)\n",
    "    auc_scores.append(auc1.mean())\n",
    "    \n",
    "mse=[x for x in cv_scores] \n",
    "optimal_alpha=l[mse.index(max(mse))]\n",
    "mse2=[y for y in auc_scores]\n",
    "optimal_lambda=l[mse2.index(max(mse2))]\n",
    "print('\\nThe optimal alpha is %d.' % optimal_lambda)\n",
    "#print('\\nThe optimal alpha for train data  is %d.' % optimal_alpha1)\n",
    "plt.plot(l, mse,label=\"cv_auc\")\n",
    "plt.plot(l,mse2,label=\"train_auc\")\n",
    "plt.xlabel('lambda values')\n",
    "plt.ylabel('auc_score')\n",
    "plt.legend()\n",
    "plt.show()    \n",
    "    "
   ]
  },
  {
   "cell_type": "code",
   "execution_count": 50,
   "metadata": {},
   "outputs": [
    {
     "data": {
      "image/png": "[encoded data removed]",
      "text/plain": [
       "<Figure size 432x288 with 1 Axes>"
      ]
     },
     "metadata": {},
     "output_type": "display_data"
    },
    {
     "name": "stdout",
     "output_type": "stream",
     "text": [
      "90.60390603906039\n"
     ]
    }
   ],
   "source": [
    "model1 = LogisticRegression(C=1,penalty='l2')\n",
    "model1.fit(tf_train70k, y_train)\n",
    "predict=model1.predict_proba(tf_test30k)[:,1]\n",
    "predict2=model1.predict(tf_test30k)\n",
    "predict1=model1.predict_proba(tf_train70k)[:,1]\n",
    "#acc = accuracy_score(y_test, predict, normalize=True) * float(100)\n",
    "fpr,tpr,_ = metrics.roc_curve(y_test,predict[:])\n",
    "fpr1,tpr1,_ = metrics.roc_curve(y_train,predict1[:])\n",
    "auc= metrics.roc_auc_score(y_test,predict)\n",
    "auc1= metrics.roc_auc_score(y_train,predict1)\n",
    "plt.plot(fpr,tpr,label=\"test, auc=\"+str(auc))\n",
    "plt.plot(fpr1,tpr1,label=\"train, auc1=\"+str(auc1))\n",
    "plt.plot([0, 1], [0, 1],'r--')\n",
    "plt.legend()\n",
    "plt.show()\n",
    "print(acc)"
   ]
  },
  {
   "cell_type": "code",
   "execution_count": 51,
   "metadata": {},
   "outputs": [
    {
     "data": {
      "image/png": "[encoded data removed]",
      "text/plain": [
       "<Figure size 432x288 with 2 Axes>"
      ]
     },
     "metadata": {},
     "output_type": "display_data"
    }
   ],
   "source": [
    "sample=confusion_matrix(y_test,predict2)\n",
    "ax=sns.heatmap(sample,annot=True,fmt=\"d\") "
   ]
  },
  {
   "cell_type": "markdown",
   "metadata": {},
   "source": [
    "# pertubation test"
   ]
  },
  {
   "cell_type": "code",
   "execution_count": 82,
   "metadata": {},
   "outputs": [
    {
     "name": "stdout",
     "output_type": "stream",
     "text": [
      "[ 0.0073366   0.00526683 -0.0196798   0.01104175  0.08538033  0.008635\n",
      "  0.00606302  0.01639231  0.05789718  0.00950741 -0.12800034  0.02206435\n",
      " -0.11904431  0.05635992  0.01067399  0.00602635  0.00275338  0.01370583\n",
      " -0.00371797  0.02089565  0.08976873  0.09760021  0.02589297  0.04163152\n",
      " -0.08715233  0.09546214  0.12817326  0.04388737 -0.12736677 -0.0354015\n",
      "  0.16814593 -0.09708439  0.01892922  0.02229348  0.00053928 -0.11042428\n",
      "  0.01399687  0.00144437 -0.26696258  0.00960367 -0.00518525 -0.04663717\n",
      " -0.10381724  0.08561338  0.00479007  0.01035832  0.13607672  0.01335904\n",
      "  0.00238087  0.07042295]\n",
      "31498\n"
     ]
    }
   ],
   "source": [
    "weights1 = find(model1.coef_[0])[2]\n",
    "print(weights1[:50])\n",
    "print(weights1.size)"
   ]
  },
  {
   "cell_type": "code",
   "execution_count": 83,
   "metadata": {},
   "outputs": [],
   "source": [
    "X_train_t = tf_train70k\n",
    "epsilon = np.random.uniform(low=-0.000001, high=0.000001, size=(find(X_train_t)[0].size,))\n",
    "a,b,c = find(X_train_t)\n",
    "X_train_t[a,b] = epsilon + X_train_t[a,b]"
   ]
  },
  {
   "cell_type": "code",
   "execution_count": 84,
   "metadata": {},
   "outputs": [
    {
     "name": "stdout",
     "output_type": "stream",
     "text": [
      "[ 0.00733651  0.00526691 -0.01967975  0.01104178  0.08537944  0.0086351\n",
      "  0.006063    0.01639216  0.05789665  0.00950737 -0.12799921  0.02206434\n",
      " -0.11904373  0.05635961  0.01067398  0.00602636  0.00275337  0.01370574\n",
      " -0.00371809  0.02089558  0.08976621  0.09759976  0.0258932   0.04163158\n",
      " -0.08715165  0.09546183  0.1281735   0.04388652 -0.12736568 -0.03540152\n",
      "  0.16814497 -0.09708499  0.01892786  0.02229342  0.00053928 -0.11042395\n",
      "  0.01399697  0.00144438 -0.26696203  0.00960365 -0.00518532 -0.04663739\n",
      " -0.10381686  0.08561399  0.00479001  0.01035836  0.1360759   0.0133591\n",
      "  0.00238093  0.07042196]\n",
      "31498\n",
      "0 = -8.001845648244888\n",
      "10 = -0.1962492234849723\n",
      "20 = -0.06271672911717407\n",
      "30 = 0.0018138423293483097\n",
      "40 = 0.00641755682381541\n",
      "50 = 0.013217272897040265\n",
      "60 = 0.023871728090608748\n",
      "70 = 0.04134077923996278\n",
      "80 = 0.07591186180874632\n",
      "90 = 0.17403264972833865\n",
      "100 = 10.586825357405353\n",
      "----------------------------------------\n",
      "90 = 0.17403264972833865\n",
      "91 = 0.19322946957589254\n",
      "92 = 0.21711127087620055\n",
      "93 = 0.24727682877717955\n",
      "94 = 0.2824249857335735\n",
      "95 = 0.3365955712250497\n",
      "96 = 0.4044019165883413\n",
      "97 = 0.501128829596196\n",
      "98 = 0.6600879955713396\n",
      "99 = 0.9755386642820671\n",
      "100 = 10.586825357405353\n"
     ]
    }
   ],
   "source": [
    "model1 = LogisticRegression(C=1,penalty='l2')\n",
    "model1.fit(X_train_t, y_train)\n",
    "predict=model1.predict(tf_test30k)\n",
    "acc = accuracy_score(y_test, predict, normalize=True) * float(100)\n",
    "weights2 = find(model1.coef_[0])[2]\n",
    "print(weights2[:50])\n",
    "print(weights2.size)\n",
    "for i in range(0,101,10):\n",
    "    p = np.percentile(weights2, i)\n",
    "    print(i,\"=\",p)\n",
    "print(\"----------------------------------------\")    \n",
    "for j in np.arange(90,101,1):\n",
    "    k = np.percentile(weights2,j)\n",
    "    print(j,\"=\",k)\n",
    "    \n",
    "  "
   ]
  },
  {
   "cell_type": "code",
   "execution_count": 85,
   "metadata": {},
   "outputs": [
    {
     "name": "stdout",
     "output_type": "stream",
     "text": [
      "[ 1.26772852e-05  1.58705720e-05 -2.98792226e-06 ...  1.03458712e-05\n",
      "  5.38312365e-06  8.62655172e-07]\n",
      "0\n"
     ]
    }
   ],
   "source": [
    "weights_diff = (abs(weights1 - weights2)/weights1) \n",
    "print(weights_diff)\n",
    "print(weights_diff[np.where(weights_diff > 0.97)].size)  \n",
    "#b = np.percentile(weights2,99)\n",
    "#print(b)\n",
    "#if (model1.coef_[0].any() > b):\n",
    "#    print(count_vector.get_feature_names())\n"
   ]
  },
  {
   "cell_type": "code",
   "execution_count": 28,
   "metadata": {},
   "outputs": [
    {
     "name": "stdout",
     "output_type": "stream",
     "text": [
      "\t\t\tNegative\t\t\t\t\t\tPositive\n",
      "----------------------------------------\n",
      "\t-1.1040\tdisappoint     \t\t\t\t0.9079\tgreat          \n",
      "\t-0.7437\treturn         \t\t\t\t0.7816\tdelici         \n",
      "\t-0.6881\tworst          \t\t\t\t0.7668\tbest           \n",
      "\t-0.6710\tterribl        \t\t\t\t0.6977\tperfect        \n",
      "\t-0.6584\thorribl        \t\t\t\t0.6600\tlove           \n",
      "\t-0.6463\tmoney          \t\t\t\t0.6158\texcel          \n",
      "\t-0.6132\twast           \t\t\t\t0.5299\tfavorit        \n",
      "\t-0.5819\taw             \t\t\t\t0.5274\tnice           \n",
      "\t-0.5763\tbad            \t\t\t\t0.4740\teasi           \n",
      "\t-0.5679\tunfortun       \t\t\t\t0.4560\twonder         \n"
     ]
    }
   ],
   "source": [
    "def positive_negative_words(tfidf_vect, model1, n=10):\n",
    "    feature_names = tfidf_vect.get_feature_names()\n",
    "    coefs_with_fns = sorted(zip(model1.coef_[0], feature_names))\n",
    "    top = zip(coefs_with_fns[:n], coefs_with_fns[:-(n + 1):-1])\n",
    "    print(\"\\t\\t\\tNegative\\t\\t\\t\\t\\t\\tPositive\")\n",
    "    print(\"----------------------------------------\")\n",
    "    for (coef_1, fn_1), (coef_2, fn_2) in top:\n",
    "        print(\"\\t%.4f\\t%-15s\\t\\t\\t\\t%.4f\\t%-15s\" % (coef_1, fn_1, coef_2, fn_2))\n",
    "        \n",
    "positive_negative_words(tfidf_vect,model)\n"
   ]
  },
  {
   "cell_type": "code",
   "execution_count": 33,
   "metadata": {},
   "outputs": [],
   "source": [
    "i=0\n",
    "list_of_sent=[]\n",
    "for sent in final_100k:\n",
    "    list_of_sent.append(str(sent.split()))"
   ]
  },
  {
   "cell_type": "code",
   "execution_count": 34,
   "metadata": {},
   "outputs": [],
   "source": [
    "w2v_model=Word2Vec(list_of_sent,min_count=5,size=50, workers=4)\n",
    "w2v_words = list(w2v_model.wv.vocab)"
   ]
  },
  {
   "cell_type": "code",
   "execution_count": 35,
   "metadata": {},
   "outputs": [
    {
     "name": "stderr",
     "output_type": "stream",
     "text": [
      "100%|██████████████████████████████████████████████████████████████████████████| 66667/66667 [00:10<00:00, 6575.79it/s]\n"
     ]
    }
   ],
   "source": [
    "sent_vectors = []; \n",
    "for sent in tqdm(x_train): \n",
    "    sent_vec = np.zeros(50) \n",
    "    cnt_words =0; \n",
    "    for word in sent: \n",
    "        if word in w2v_words:\n",
    "            vec = w2v_model.wv[word]\n",
    "            sent_vec += vec\n",
    "            cnt_words += 1\n",
    "    if cnt_words != 0:\n",
    "        sent_vec /= cnt_words\n",
    "    sent_vectors.append(sent_vec)"
   ]
  },
  {
   "cell_type": "code",
   "execution_count": 32,
   "metadata": {},
   "outputs": [
    {
     "name": "stdout",
     "output_type": "stream",
     "text": [
      "LogisticRegression(C=0.0001, class_weight=None, dual=False,\n",
      "          fit_intercept=True, intercept_scaling=1, max_iter=100,\n",
      "          multi_class='ovr', n_jobs=1, penalty='l2', random_state=None,\n",
      "          solver='liblinear', tol=0.0001, verbose=0, warm_start=False)\n"
     ]
    }
   ],
   "source": [
    "tuned_parameters = [{'C': [10**-4,10**-3, 10**-2, 10**0, 10**2,10**3, 10**4]}]\n",
    "\n",
    "model = GridSearchCV(LogisticRegression(), tuned_parameters, scoring = 'roc_auc', cv=5)\n",
    "model.fit(sent_vectors, y_train)\n",
    "print(model.best_estimator_)\n",
    "\n",
    "#print(model.score(tf_test30k, y_test))"
   ]
  },
  {
   "cell_type": "code",
   "execution_count": null,
   "metadata": {},
   "outputs": [],
   "source": []
  },
  {
   "cell_type": "code",
   "execution_count": 36,
   "metadata": {},
   "outputs": [
    {
     "name": "stderr",
     "output_type": "stream",
     "text": [
      "100%|██████████████████████████████████████████████████████████████████████████| 33333/33333 [00:04<00:00, 6689.02it/s]\n"
     ]
    }
   ],
   "source": [
    "sent_vectors_test = []; \n",
    "for sent in tqdm(x_test): \n",
    "    sent_vec = np.zeros(50) \n",
    "    cnt_words =0; \n",
    "    for word in sent: \n",
    "        if word in w2v_words:\n",
    "            vec = w2v_model.wv[word]\n",
    "            sent_vec += vec\n",
    "            cnt_words += 1\n",
    "    if cnt_words != 0:\n",
    "        sent_vec /= cnt_words\n",
    "    sent_vectors_test.append(sent_vec)"
   ]
  },
  {
   "cell_type": "code",
   "execution_count": 24,
   "metadata": {},
   "outputs": [
    {
     "name": "stdout",
     "output_type": "stream",
     "text": [
      "50.0\n"
     ]
    }
   ],
   "source": [
    "model = GridSearchCV(LogisticRegression(C=10000), tuned_parameters, scoring = 'roc_auc', cv=5)\n",
    "model.fit(sent_vectors, y_train)\n",
    "\n",
    "print(model.score(sent_vectors_test, y_test) * float(100))"
   ]
  },
  {
   "cell_type": "code",
   "execution_count": 37,
   "metadata": {},
   "outputs": [
    {
     "name": "stdout",
     "output_type": "stream",
     "text": [
      "\n",
      "The optimal lambda is 1.\n"
     ]
    },
    {
     "data": {
      "image/png": "[encoded data removed]",
      "text/plain": [
       "<Figure size 432x288 with 1 Axes>"
      ]
     },
     "metadata": {},
     "output_type": "display_data"
    }
   ],
   "source": [
    "l = list(range(1,101))\n",
    "cv_scores=[]\n",
    "auc_scores=[]\n",
    "for i in l:\n",
    "    model2 = LogisticRegression(C=i,penalty='l1')\n",
    "    model2.fit(sent_vectors, y_train)\n",
    "    predict=model2.predict_proba(sent_vectors)[:,1]\n",
    "    scores = cross_val_score(model2, sent_vectors, y_train, cv=4, scoring='roc_auc')\n",
    "    cv_scores.append(scores.mean())\n",
    "    auc1=metrics.roc_auc_score(y_train, predict)\n",
    "    auc_scores.append(auc1.mean())\n",
    "    \n",
    "mse=[x for x in cv_scores] \n",
    "optimal_lambda=l[mse.index(max(mse))]\n",
    "mse2=[y for y in auc_scores]\n",
    "optimal_alpha1=l[mse2.index(max(mse2))]\n",
    "print('\\nThe optimal lambda is %d.' % optimal_lambda)\n",
    "#print('\\nThe optimal alpha for train data  is %d.' % optimal_alpha1)\n",
    "plt.plot(l, mse,label=\"cv_auc\")\n",
    "plt.plot(l,mse2,label=\"train_auc\")\n",
    "plt.xlabel('lambda values')\n",
    "plt.ylabel('auc_score')\n",
    "plt.legend()\n",
    "plt.show()    \n",
    "    "
   ]
  },
  {
   "cell_type": "code",
   "execution_count": 40,
   "metadata": {},
   "outputs": [
    {
     "data": {
      "image/png": "[encoded data removed]",
      "text/plain": [
       "<Figure size 432x288 with 1 Axes>"
      ]
     },
     "metadata": {},
     "output_type": "display_data"
    },
    {
     "name": "stdout",
     "output_type": "stream",
     "text": [
      "90.60390603906039\n"
     ]
    }
   ],
   "source": [
    "model2 = LogisticRegression(C=1,penalty='l2')\n",
    "model2.fit(sent_vectors, y_train)\n",
    "predict=model2.predict_proba(sent_vectors_test)[:,1]\n",
    "predict1=model2.predict_proba(sent_vectors)[:,1]\n",
    "#acc = accuracy_score(y_test, predict, normalize=True) * float(100)\n",
    "fpr,tpr,_ = metrics.roc_curve(y_test,predict[:])\n",
    "fpr1,tpr1,_ = metrics.roc_curve(y_train,predict1[:])\n",
    "auc= metrics.roc_auc_score(y_test,predict)\n",
    "auc1= metrics.roc_auc_score(y_train,predict1)\n",
    "plt.plot(fpr,tpr,label=\"test, auc=\"+str(auc))\n",
    "plt.plot(fpr1,tpr1,label=\"train, auc1=\"+str(auc1))\n",
    "plt.plot([0, 1], [0, 1],'r--')\n",
    "plt.legend()\n",
    "plt.show()\n",
    "print(acc)"
   ]
  },
  {
   "cell_type": "code",
   "execution_count": 37,
   "metadata": {},
   "outputs": [
    {
     "data": {
      "image/png": "[encoded data removed]",
      "text/plain": [
       "<Figure size 432x288 with 2 Axes>"
      ]
     },
     "metadata": {},
     "output_type": "display_data"
    }
   ],
   "source": [
    "sample=confusion_matrix(y_test,predict)\n",
    "ax=sns.heatmap(sample,annot=True,fmt=\"d\") "
   ]
  },
  {
   "cell_type": "code",
   "execution_count": 54,
   "metadata": {},
   "outputs": [
    {
     "name": "stdout",
     "output_type": "stream",
     "text": [
      "[]\n"
     ]
    }
   ],
   "source": []
  },
  {
   "cell_type": "code",
   "execution_count": null,
   "metadata": {},
   "outputs": [],
   "source": []
  },
  {
   "cell_type": "code",
   "execution_count": null,
   "metadata": {},
   "outputs": [],
   "source": []
  },
  {
   "cell_type": "code",
   "execution_count": null,
   "metadata": {},
   "outputs": [],
   "source": []
  },
  {
   "cell_type": "code",
   "execution_count": 41,
   "metadata": {},
   "outputs": [],
   "source": [
    "model = TfidfVectorizer()\n",
    "tf_idf_matrix = model.fit_transform(final_100k)\n",
    "dictionary = dict(zip(model.get_feature_names(), list(model.idf_)))\n",
    "\n"
   ]
  },
  {
   "cell_type": "code",
   "execution_count": 42,
   "metadata": {},
   "outputs": [
    {
     "name": "stderr",
     "output_type": "stream",
     "text": [
      "100%|██████████████████████████████████████████████████████████████████████████| 66667/66667 [00:10<00:00, 6485.88it/s]\n"
     ]
    }
   ],
   "source": [
    "tfidf_sent_vectors = []\n",
    "row=0\n",
    "for sent in tqdm(x_train):\n",
    "    sent_vec = np.zeros(50)\n",
    "    weight_sum =0\n",
    "    for word in sent:\n",
    "        if word in w2v_words:\n",
    "            vec = w2v_model.wv[word]\n",
    "            tf_idf = dictionary[word]*(sent.count(word)/len(sent))\n",
    "            sent_vec += (vec * tf_idf)\n",
    "            weight_sum += tf_idf\n",
    "    if weight_sum != 0:\n",
    "        sent_vec /= weight_sum\n",
    "    tfidf_sent_vectors.append(sent_vec)\n",
    "    row += 1"
   ]
  },
  {
   "cell_type": "code",
   "execution_count": 46,
   "metadata": {},
   "outputs": [
    {
     "name": "stdout",
     "output_type": "stream",
     "text": [
      "LogisticRegression(C=0.0001, class_weight=None, dual=False,\n",
      "          fit_intercept=True, intercept_scaling=1, max_iter=100,\n",
      "          multi_class='ovr', n_jobs=1, penalty='l2', random_state=None,\n",
      "          solver='liblinear', tol=0.0001, verbose=0, warm_start=False)\n"
     ]
    }
   ],
   "source": [
    "tuned_parameters = [{'C': [10**-4,10**-3, 10**-2, 10**0, 10**2,10**3, 10**4]}]\n",
    "\n",
    "model = GridSearchCV(LogisticRegression(), tuned_parameters, scoring = 'roc_auc', cv=5)\n",
    "model.fit(tfidf_sent_vectors, y_train)\n",
    "print(model.best_estimator_)\n",
    "#print(model.score(tfidf_sent_vectors, y_train))"
   ]
  },
  {
   "cell_type": "code",
   "execution_count": 43,
   "metadata": {},
   "outputs": [
    {
     "name": "stderr",
     "output_type": "stream",
     "text": [
      "100%|██████████████████████████████████████████████████████████████████████████| 33333/33333 [00:04<00:00, 7019.12it/s]\n"
     ]
    }
   ],
   "source": [
    "\n",
    "\n",
    "tfidf_sent_vectors_test = [];\n",
    "row=0;\n",
    "for sent in tqdm(x_test):\n",
    "    sent_vec = np.zeros(50)\n",
    "    weight_sum =0;\n",
    "    for word in sent:\n",
    "        if word in w2v_words:\n",
    "            vec = w2v_model.wv[word]\n",
    "            tf_idf = dictionary[word]*(sent.count(word)/len(sent))\n",
    "            sent_vec += (vec * tf_idf)\n",
    "            weight_sum += tf_idf\n",
    "    if weight_sum != 0:\n",
    "        sent_vec /= weight_sum\n",
    "    tfidf_sent_vectors_test.append(sent_vec)\n",
    "    row += 1"
   ]
  },
  {
   "cell_type": "code",
   "execution_count": 48,
   "metadata": {},
   "outputs": [
    {
     "name": "stdout",
     "output_type": "stream",
     "text": [
      "85.24585245852458\n"
     ]
    }
   ],
   "source": [
    "from sklearn.metrics import accuracy_score\n",
    "\n",
    "model = GridSearchCV(LogisticRegression(C=0.0001,penalty='l1'), tuned_parameters, scoring = 'roc_auc', cv=5)\n",
    "model.fit(tfidf_sent_vectors, y_train)\n",
    "predict=model.predict(tfidf_sent_vectors_test)\n",
    "acc = accuracy_score(y_test, predict, normalize=True) * float(100)\n",
    "print(acc)\n",
    "#print(model.score(sent_vectors_test1, y_test) * float(100))"
   ]
  },
  {
   "cell_type": "code",
   "execution_count": 44,
   "metadata": {},
   "outputs": [
    {
     "name": "stdout",
     "output_type": "stream",
     "text": [
      "\n",
      "The optimal alpha is 1.\n"
     ]
    },
    {
     "data": {
      "image/png": "[encoded data removed]",
      "text/plain": [
       "<Figure size 432x288 with 1 Axes>"
      ]
     },
     "metadata": {},
     "output_type": "display_data"
    }
   ],
   "source": [
    "l = list(range(1,101))\n",
    "cv_scores=[]\n",
    "auc_scores=[]\n",
    "for i in l:\n",
    "    model3 = LogisticRegression(C=1/i)\n",
    "    model3.fit(tfidf_sent_vectors, y_train)\n",
    "    predict=model3.predict_proba(tfidf_sent_vectors)[:,1]\n",
    "    scores = cross_val_score(model3, tfidf_sent_vectors, y_train, cv=4, scoring='roc_auc')\n",
    "    cv_scores.append(scores.mean())\n",
    "    auc1=metrics.roc_auc_score(y_train, predict)\n",
    "    auc_scores.append(auc1.mean())\n",
    "    \n",
    "mse=[x for x in cv_scores] \n",
    "optimal_lambda=l[mse.index(max(mse))]\n",
    "mse2=[y for y in auc_scores]\n",
    "optimal_alpha1=l[mse2.index(max(mse2))]\n",
    "print('\\nThe optimal alpha is %d.' % optimal_lambda)\n",
    "#print('\\nThe optimal alpha for train data  is %d.' % optimal_alpha1)\n",
    "plt.plot(l, mse,label=\"cv_auc\")\n",
    "plt.plot(l,mse2,label=\"train_auc\")\n",
    "plt.xlabel('lambda values')\n",
    "plt.ylabel('auc_score')\n",
    "plt.legend()\n",
    "plt.show()    \n",
    "    "
   ]
  },
  {
   "cell_type": "code",
   "execution_count": 46,
   "metadata": {},
   "outputs": [
    {
     "data": {
      "image/png": "[encoded data removed]",
      "text/plain": [
       "<Figure size 432x288 with 1 Axes>"
      ]
     },
     "metadata": {},
     "output_type": "display_data"
    },
    {
     "name": "stdout",
     "output_type": "stream",
     "text": [
      "90.60390603906039\n"
     ]
    }
   ],
   "source": [
    "model3 = LogisticRegression(C=1,penalty='l2')\n",
    "model3.fit(tfidf_sent_vectors, y_train)\n",
    "predict=model3.predict_proba(tfidf_sent_vectors_test)[:,1]\n",
    "predict1=model3.predict_proba(tfidf_sent_vectors)[:,1]\n",
    "#acc = accuracy_score(y_test, predict, normalize=True) * float(100)\n",
    "fpr,tpr,_ = metrics.roc_curve(y_test,predict[:])\n",
    "fpr1,tpr1,_ = metrics.roc_curve(y_train,predict1[:])\n",
    "auc= metrics.roc_auc_score(y_test,predict)\n",
    "auc1= metrics.roc_auc_score(y_train,predict1)\n",
    "plt.plot(fpr,tpr,label=\"test, auc=\"+str(auc))\n",
    "plt.plot(fpr1,tpr1,label=\"train, auc1=\"+str(auc1))\n",
    "plt.plot([0, 1], [0, 1],'r--')\n",
    "plt.legend()\n",
    "plt.show()\n",
    "print(acc)"
   ]
  },
  {
   "cell_type": "code",
   "execution_count": 43,
   "metadata": {},
   "outputs": [
    {
     "data": {
      "image/png": "[encoded data removed]",
      "text/plain": [
       "<Figure size 432x288 with 2 Axes>"
      ]
     },
     "metadata": {},
     "output_type": "display_data"
    }
   ],
   "source": [
    "sample=confusion_matrix(y_test,predict)\n",
    "ax=sns.heatmap(sample,annot=True,fmt=\"d\") "
   ]
  },
  {
   "cell_type": "markdown",
   "metadata": {},
   "source": [
    "<table>\n",
    "    <tr>\n",
    "        <th>model</th>\n",
    "        <th>optimal lambda</th>\n",
    "        <th>test accuracy</th>\n",
    "        <th>sample size</th>\n",
    "        <th>test size</th>\n",
    "        <th>test auc</th>\n",
    "        <th>train auc</th>\n",
    "    </tr>\n",
    "    <tr>\n",
    "        <td>BOW</td>\n",
    "        <td>4</td>\n",
    "        <td>90.60%</td>\n",
    "        <td>100k</td>\n",
    "        <td>30k</td>\n",
    "        <td>0.90</td>\n",
    "        <td>0.99</td>\n",
    "            \n",
    "    </tr>\n",
    "    <tr>\n",
    "        <td>TFIDF</td>\n",
    "        <td>1</td>\n",
    "        <td>90%</td>\n",
    "        <td>100k</td>\n",
    "        <td>30k</td>\n",
    "        <td>0.94</td>\n",
    "        <td>0.96</td>\n",
    "    </tr>\n",
    "    <tr>\n",
    "        <td>avg w2v</td>\n",
    "        <td>1</td>\n",
    "        <td>90.60%</td>\n",
    "        <td>100k</td>\n",
    "        <td>30k</td>\n",
    "        <td>0.5</td>\n",
    "        <td>0.5</td>\n",
    "     </tr>\n",
    "     <tr>\n",
    "         <td>tfidf-avg w2v</td>\n",
    "         <td>1</td>\n",
    "         <td>90.60%</td>\n",
    "         <td>100k</td>\n",
    "         <td>30k</td>\n",
    "         <td>0.5</td>\n",
    "         <td>0.5</td>\n",
    "     </tr>    \n",
    "    \n",
    "</table>    \n",
    "\n"
   ]
  },
  {
   "cell_type": "code",
   "execution_count": null,
   "metadata": {},
   "outputs": [],
   "source": []
  },
  {
   "cell_type": "code",
   "execution_count": null,
   "metadata": {},
   "outputs": [],
   "source": []
  },
  {
   "cell_type": "code",
   "execution_count": null,
   "metadata": {},
   "outputs": [],
   "source": []
  },
  {
   "cell_type": "code",
   "execution_count": null,
   "metadata": {},
   "outputs": [],
   "source": []
  }
 ],
 "metadata": {
  "kernelspec": {
   "display_name": "Python 3",
   "language": "python",
   "name": "python3"
  },
  "language_info": {
   "codemirror_mode": {
    "name": "ipython",
    "version": 3
   },
   "file_extension": ".py",
   "mimetype": "text/x-python",
   "name": "python",
   "nbconvert_exporter": "python",
   "pygments_lexer": "ipython3",
   "version": "3.6.5"
  }
 },
 "nbformat": 4,
 "nbformat_minor": 2
}
