{
 "cells": [
  {
   "cell_type": "code",
   "execution_count": 1,
   "metadata": {},
   "outputs": [
    {
     "name": "stderr",
     "output_type": "stream",
     "text": [
      "C:\\Users\\Ram Nikhilesh\\Anaconda3\\lib\\site-packages\\sklearn\\cross_validation.py:41: DeprecationWarning: This module was deprecated in version 0.18 in favor of the model_selection module into which all the refactored classes and functions are moved. Also note that the interface of the new CV iterators are different from that of this module. This module will be removed in 0.20.\n",
      "  \"This module will be removed in 0.20.\", DeprecationWarning)\n"
     ]
    }
   ],
   "source": [
    "import warnings\n",
    "warnings.filterwarnings('ignore')\n",
    "\n",
    "import sqlite3\n",
    "import pandas as pd\n",
    "import numpy as np\n",
    "import matplotlib.pyplot as plt\n",
    "import nltk\n",
    "import seaborn as sns\n",
    "#import string\n",
    "from sklearn.feature_extraction.text import TfidfTransformer\n",
    "from sklearn.feature_extraction.text import TfidfVectorizer\n",
    "#from sklearn.model_selection import TimeSeriesSplit\n",
    "#from sklearn.feature_extraction.text import CountVectorizer\n",
    "from sklearn.metrics import confusion_matrix\n",
    "from sklearn import metrics\n",
    "from sklearn.metrics import roc_curve, auc\n",
    "from nltk.stem.porter import PorterStemmer\n",
    "\n",
    "import re\n",
    "\n",
    "import string\n",
    "from nltk.corpus import stopwords\n",
    "from nltk.stem import PorterStemmer\n",
    "from nltk.stem.wordnet import WordNetLemmatizer\n",
    "\n",
    "#from gensim.models import Word2Vec\n",
    "#from gensim.models import KeyedVectors\n",
    "import pickle\n",
    "\n",
    "from tqdm import tqdm\n",
    "import os\n",
    "\n",
    "\n",
    "from sklearn import cross_validation\n",
    "from sklearn.model_selection import TimeSeriesSplit\n",
    "from sklearn.cross_validation import cross_val_score\n",
    "from sklearn.metrics import roc_auc_score\n",
    "from sklearn.feature_extraction.text import CountVectorizer\n",
    "\n",
    "from sklearn.naive_bayes import MultinomialNB"
   ]
  },
  {
   "cell_type": "code",
   "execution_count": 2,
   "metadata": {},
   "outputs": [
    {
     "name": "stdout",
     "output_type": "stream",
     "text": [
      "(525814, 10)\n"
     ]
    }
   ],
   "source": [
    "con = sqlite3.connect(r\"C:\\Users\\Ram Nikhilesh\\Desktop\\ai class\\csv files\\td1\\database.sqlite\")\n",
    "filtered_data = pd.read_sql_query(\"\"\"select * from Reviews where Score != 3\"\"\",con)\n",
    "print(filtered_data.shape)\n",
    "def partition(x):\n",
    "    if x < 3:\n",
    "        return 0\n",
    "    return 1\n",
    "\n",
    "\n",
    "actualscore=filtered_data['Score']\n",
    "positivenegative=actualscore.map(partition)\n",
    "filtered_data['Score']=positivenegative\n",
    "filtered_data.shape\n",
    "sorted_data=filtered_data.sort_values('ProductId',axis=0,ascending=True,kind='mergsort',na_position='last')\n",
    "final=sorted_data.drop_duplicates(subset={\"UserId\",\"ProfileName\",\"Time\",\"Text\"},keep='first',inplace=False)\n",
    "stop = set(stopwords.words('english'))\n",
    "sno = nltk.stem.SnowballStemmer('english')\n",
    "\n",
    "def cleanhtml(sentence):\n",
    "    cleanr = re.compile('<.*?>')\n",
    "    cleantext = re.sub(cleanr,' ',sentence)\n",
    "    return cleantext\n",
    "\n",
    "def cleanpunc(sentence):\n",
    "    cleaned = re.sub(r'[?|!|\\'|\"|#]',r'',sentence)\n",
    "    cleaned = re.sub(r'[.|,|)|(|\\|/]',r' ',cleaned)\n",
    "    return  cleaned\n",
    "\n",
    "\n",
    "    \n",
    "    \n",
    "                                                            \n",
    "\n"
   ]
  },
  {
   "cell_type": "code",
   "execution_count": 3,
   "metadata": {},
   "outputs": [],
   "source": [
    "\n",
    "i=0\n",
    "str1=' '\n",
    "final_string=[]\n",
    "all_positive_words=[]\n",
    "all_negative_words=[]\n",
    "s=''\n",
    "for sent in (final['Text'].values):\n",
    "    filtered_sentence=[]\n",
    "    sent=cleanhtml(sent)\n",
    "        \n",
    "    for w in sent.split():\n",
    "        for cleaned_word in cleanpunc(w).split():\n",
    "            \n",
    "            if((cleaned_word.isalpha())&(len(cleaned_word) > 2)):\n",
    "                if((cleaned_word.lower()not in stop)):\n",
    "                    s=(sno.stem(cleaned_word.lower())).encode('utf-8')\n",
    "                    filtered_sentence.append(s)\n",
    "                    if(final['Score'].values)[i]=='positive':\n",
    "                        all_positive_words.append(s)\n",
    "                    if(final['Score'].values)[i]=='negative':\n",
    "                        all_negative_words.append(s)\n",
    "                else:\n",
    "                    continue\n",
    "            else:\n",
    "                continue\n",
    "        \n",
    "    str1=b\" \".join(filtered_sentence)\n",
    "    final_string.append(str1)\n",
    "    i+=1"
   ]
  },
  {
   "cell_type": "code",
   "execution_count": 4,
   "metadata": {},
   "outputs": [],
   "source": [
    "final['cleanedText']=final_string\n",
    "final['cleanedText']=final['cleanedText']\n",
    "conn = sqlite3.connect('final.sqlite')\n",
    "c=conn.cursor()\n",
    "conn.text_factory = str\n",
    "final.to_sql('Reviews', conn,  schema=None, if_exists='replace', \\\n",
    "                 index=True, index_label=None, chunksize=None, dtype=None)\n",
    "conn.close()"
   ]
  },
  {
   "cell_type": "code",
   "execution_count": 5,
   "metadata": {},
   "outputs": [],
   "source": [
    "if os.path.isfile('final.sqlite'):\n",
    "    conn=sqlite3.connect('final.sqlite')\n",
    "    final = pd.read_sql_query(\"\"\" SELECT * FROM Reviews WHERE Score != 3 \"\"\", conn)\n",
    "    conn.close()\n",
    "else:\n",
    "    print(\"Please the above cell\")\n",
    "    \n",
    "    \n",
    "  "
   ]
  },
  {
   "cell_type": "code",
   "execution_count": 6,
   "metadata": {},
   "outputs": [],
   "source": [
    "final_text=final['cleanedText']\n",
    "score=final['Score']\n",
    "final_100k=final_text[0:100000]\n",
    "score_100k=score[0:100000]\n",
    "tscv=TimeSeriesSplit(n_splits=2,max_train_size=70000)\n",
    "for train,test in tscv.split(final_100k):\n",
    "    x_train,x_test=final_100k[train],final_100k[test]\n",
    "    y_train,y_test=score_100k[train],score_100k[test]\n",
    "    "
   ]
  },
  {
   "cell_type": "code",
   "execution_count": 7,
   "metadata": {},
   "outputs": [],
   "source": [
    "count_vector=CountVectorizer()\n",
    "train_70k=count_vector.fit_transform(x_train)\n",
    "test_30k=count_vector.transform(x_test)"
   ]
  },
  {
   "cell_type": "code",
   "execution_count": 27,
   "metadata": {},
   "outputs": [
    {
     "name": "stdout",
     "output_type": "stream",
     "text": [
      "\n",
      "The optimal alpha is 1.\n"
     ]
    },
    {
     "data": {
      "image/png": "[encoded data removed]",
      "text/plain": [
       "<Figure size 432x288 with 1 Axes>"
      ]
     },
     "metadata": {},
     "output_type": "display_data"
    }
   ],
   "source": [
    "\n",
    "final_score=[]\n",
    "mylist=list(np.arange(0.0001,10001))\n",
    "cv_scores=[]\n",
    "\n",
    "auc_score=[]\n",
    "\n",
    "for i in mylist:\n",
    "\n",
    "    mnb=MultinomialNB(alpha=i)\n",
    "    mnb.fit(train_70k,y_train)\n",
    "    predict1=mnb.predict(train_70k)\n",
    "    \n",
    "\n",
    "    scores = cross_val_score(mnb, train_70k, y_train, cv=4, scoring='roc_auc')\n",
    "    cv_scores.append(scores.mean())\n",
    "    \n",
    "    auc1=metrics.roc_auc_score(y_train, predict1)\n",
    "    \n",
    "    auc_score.append(auc1.mean())\n",
    "    \n",
    "    \n",
    "    \n",
    "\n",
    "\n",
    "mse=[x for x in cv_scores] \n",
    "optimal_alpha=mylist[mse.index(max(mse))]\n",
    "mse2=[y for y in auc_score]\n",
    "optimal_alpha1=mylist[mse2.index(max(mse2))]\n",
    "print('\\nThe optimal alpha is %d.' % optimal_alpha)\n",
    "#print('\\nThe optimal alpha for train data  is %d.' % optimal_alpha1)\n",
    "plt.plot(mylist, mse,label=\"cv_auc\")\n",
    "plt.plot(mylist,mse2,label=\"train_auc\")\n",
    "plt.xlabel('alpha_values')\n",
    "plt.ylabel('auc_score')\n",
    "plt.legend()\n",
    "plt.show()\n",
    "\n",
    "    \n",
    "    \n",
    "    \n",
    "    \n"
   ]
  },
  {
   "cell_type": "code",
   "execution_count": 28,
   "metadata": {},
   "outputs": [
    {
     "name": "stdout",
     "output_type": "stream",
     "text": [
      "\n",
      "Test accuracy for k 1 is 91%\n"
     ]
    },
    {
     "data": {
      "image/png": "[encoded data removed]",
      "text/plain": [
       "<Figure size 432x288 with 1 Axes>"
      ]
     },
     "metadata": {},
     "output_type": "display_data"
    },
    {
     "name": "stdout",
     "output_type": "stream",
     "text": [
      "the auc for train data =  0.8298091145635269\n",
      "the auc for test data =  0.7782653858668401\n"
     ]
    }
   ],
   "source": [
    "from sklearn.metrics import accuracy_score\n",
    "mnb=MultinomialNB(alpha=optimal_alpha)\n",
    "\n",
    "mnb.fit(train_70k,y_train)\n",
    "predict=mnb.predict(train_70k)\n",
    "predict1= mnb.predict(test_30k)\n",
    "acc = accuracy_score(y_train, predict, normalize=True) * float(100)\n",
    "print('\\nTest accuracy for k %d is %d%%' % (optimal_alpha,acc))\n",
    "fpr,tpr,_ = metrics.roc_curve(y_train,predict)\n",
    "fpr1,tpr1,_ = metrics.roc_curve(y_test,predict1)\n",
    "auc = metrics.roc_auc_score(y_train,predict)\n",
    "auc2= metrics.roc_auc_score(y_test,predict1)\n",
    "plt.plot(fpr,tpr,label=\"train, auc=\"+str(auc))\n",
    "plt.plot(fpr1,tpr1,label=\"test, auc=\"+str(auc2))\n",
    "plt.plot([0, 1], [0, 1],'r--')\n",
    "plt.legend()\n",
    "plt.show()\n",
    "print(\"the auc for train data = \",auc)\n",
    "print(\"the auc for test data = \",auc2)"
   ]
  },
  {
   "cell_type": "code",
   "execution_count": 29,
   "metadata": {},
   "outputs": [
    {
     "data": {
      "image/png": "[encoded data removed]",
      "text/plain": [
       "<Figure size 432x288 with 2 Axes>"
      ]
     },
     "metadata": {},
     "output_type": "display_data"
    }
   ],
   "source": [
    "sample=confusion_matrix(y_test,predict1)\n",
    "ax=sns.heatmap(sample,annot=True,fmt=\"d\")"
   ]
  },
  {
   "cell_type": "code",
   "execution_count": 30,
   "metadata": {},
   "outputs": [
    {
     "name": "stdout",
     "output_type": "stream",
     "text": [
      "['food' 'use' 'flavor' 'tri' 'tea' 'would' 'one' 'product' 'like' 'tast']\n",
      "['product' 'flavor' 'one' 'great' 'love' 'good' 'use' 'tast' 'like' 'tea']\n"
     ]
    }
   ],
   "source": [
    "neg_class=[]\n",
    "pos_class=[]\n",
    "neg_class = mnb.feature_log_prob_[0, :].argsort()\n",
    "pos_class = mnb.feature_log_prob_[1, :].argsort()\n",
    "\n",
    "print(np.take(count_vector.get_feature_names(), neg_class[-10:]))\n",
    "print(np.take(count_vector.get_feature_names(), pos_class[-10:]))"
   ]
  },
  {
   "cell_type": "code",
   "execution_count": 31,
   "metadata": {},
   "outputs": [],
   "source": [
    "tfidf_vect=TfidfVectorizer(ngram_range=(1,1))\n",
    "tf_train70k=tfidf_vect.fit_transform(x_train)\n",
    "tf_test30k=tfidf_vect.transform(x_test)"
   ]
  },
  {
   "cell_type": "code",
   "execution_count": 32,
   "metadata": {},
   "outputs": [
    {
     "name": "stdout",
     "output_type": "stream",
     "text": [
      "\n",
      "The optimal alpha is 1.\n"
     ]
    },
    {
     "data": {
      "image/png": "[encoded data removed]",
      "text/plain": [
       "<Figure size 432x288 with 1 Axes>"
      ]
     },
     "metadata": {},
     "output_type": "display_data"
    }
   ],
   "source": [
    "\n",
    "final_score=[]\n",
    "mylist=list(np.arange(0.0001,10001))\n",
    "cv_scores=[]\n",
    "auc_score=[]\n",
    "for i in mylist:\n",
    "\n",
    "    mnb=MultinomialNB(alpha=i)\n",
    "    mnb.fit(tf_train70k,y_train)\n",
    "    scores = cross_val_score(mnb, tf_train70k, y_train, cv=4, scoring='roc_auc')\n",
    "    cv_scores.append(scores.mean())\n",
    "    predict1=mnb.predict(tf_train70k)\n",
    "    auc1=metrics.roc_auc_score(y_train, predict1)\n",
    "    \n",
    "    auc_score.append(auc1.mean())\n",
    "    \n",
    "    \n",
    "    \n",
    "mse=[x for x in cv_scores] \n",
    "optimal_alpha=mylist[mse.index(max(mse))]\n",
    "mse2=[y for y in auc_score]\n",
    "optimal_alpha1=mylist[mse2.index(max(mse2))]\n",
    "print('\\nThe optimal alpha is %d.' % optimal_alpha)\n",
    "#print('\\nThe optimal alpha for train data  is %d.' % optimal_alpha1)\n",
    "plt.plot(mylist, mse,label=\"cv_auc\")\n",
    "plt.plot(mylist,mse2,label=\"train_auc\")\n",
    "plt.xlabel('alpha_values')\n",
    "plt.ylabel('auc_score')\n",
    "plt.legend()\n",
    "plt.show()\n",
    "    \n",
    "    \n",
    "    \n"
   ]
  },
  {
   "cell_type": "code",
   "execution_count": 33,
   "metadata": {},
   "outputs": [
    {
     "name": "stdout",
     "output_type": "stream",
     "text": [
      "\n",
      "Test accuracy for k 1 is 85%\n"
     ]
    },
    {
     "data": {
      "image/png": "[encoded data removed]",
      "text/plain": [
       "<Figure size 432x288 with 1 Axes>"
      ]
     },
     "metadata": {},
     "output_type": "display_data"
    },
    {
     "name": "stdout",
     "output_type": "stream",
     "text": [
      "the auc for train data =  0.5273663392976112\n",
      "the auc for test data =  0.5124796656366236\n"
     ]
    }
   ],
   "source": [
    "from sklearn.metrics import accuracy_score\n",
    "mnb=MultinomialNB(alpha=optimal_alpha)\n",
    "\n",
    "mnb.fit(tf_train70k,y_train)\n",
    "predict=mnb.predict(tf_train70k)\n",
    "predict1= mnb.predict(tf_test30k)\n",
    "acc = accuracy_score(y_train, predict, normalize=True) * float(100)\n",
    "print('\\nTest accuracy for k %d is %d%%' % (optimal_alpha,acc))\n",
    "fpr,tpr,_ = metrics.roc_curve(y_train,predict)\n",
    "fpr1,tpr1,_ = metrics.roc_curve(y_test,predict1)\n",
    "auc = metrics.roc_auc_score(y_train,predict)\n",
    "auc2= metrics.roc_auc_score(y_test,predict1)\n",
    "plt.plot(fpr,tpr,label=\"train, auc=\"+str(auc))\n",
    "plt.plot(fpr1,tpr1,label=\"test, auc=\"+str(auc2))\n",
    "plt.plot([0, 1], [0, 1],'r--')\n",
    "plt.legend()\n",
    "plt.show()\n",
    "print(\"the auc for train data = \",auc)\n",
    "print(\"the auc for test data = \",auc2)"
   ]
  },
  {
   "cell_type": "code",
   "execution_count": 34,
   "metadata": {},
   "outputs": [
    {
     "data": {
      "image/png": "[encoded data removed]",
      "text/plain": [
       "<Figure size 432x288 with 2 Axes>"
      ]
     },
     "metadata": {},
     "output_type": "display_data"
    }
   ],
   "source": [
    "sample=confusion_matrix(y_test,predict1)\n",
    "ax=sns.heatmap(sample,annot=True,fmt=\"d\") "
   ]
  },
  {
   "cell_type": "code",
   "execution_count": 35,
   "metadata": {},
   "outputs": [
    {
     "name": "stdout",
     "output_type": "stream",
     "text": [
      "['flavor' 'tri' 'buy' 'order' 'tea' 'one' 'would' 'like' 'product' 'tast']\n",
      "['one' 'flavor' 'product' 'use' 'like' 'tast' 'good' 'love' 'great' 'tea']\n"
     ]
    }
   ],
   "source": [
    "neg_class=[]\n",
    "pos_class=[]\n",
    "neg_class = mnb.feature_log_prob_[0, :].argsort()\n",
    "pos_class = mnb.feature_log_prob_[1, :].argsort()\n",
    "\n",
    "print(np.take(tfidf_vect.get_feature_names(), neg_class[-10:]))\n",
    "print(np.take(tfidf_vect.get_feature_names(), pos_class[-10:]))"
   ]
  },
  {
   "cell_type": "markdown",
   "metadata": {},
   "source": [
    "<table>\n",
    "    <tr>\n",
    "        <th>model</th>\n",
    "        <th>optimal alpha</th>\n",
    "        <th>test accuracy</th>\n",
    "        <th>sample size</th>\n",
    "        <th>test size</th>\n",
    "        <th>test auc</th>\n",
    "        <th>train auc</th>\n",
    "    </tr>\n",
    "    <tr>\n",
    "        <td>BOW</td>\n",
    "        <td>9922</td>\n",
    "        <td>85%</td>\n",
    "        <td>100k</td>\n",
    "        <td>30k</td>\n",
    "        <td>0.778</td>\n",
    "        <td>0.829</td>\n",
    "            \n",
    "    </tr>\n",
    "    <tr>\n",
    "        <td>TFIDF</td>\n",
    "        <td>9999</td>\n",
    "        <td>85%</td>\n",
    "        <td>100k</td>\n",
    "        <td>30k</td>\n",
    "        <td>0.512</td>\n",
    "        <td>0.527</td>\n",
    "    </tr>\n",
    "</table>    \n",
    "\n"
   ]
  },
  {
   "cell_type": "code",
   "execution_count": null,
   "metadata": {},
   "outputs": [],
   "source": []
  }
 ],
 "metadata": {
  "kernelspec": {
   "display_name": "Python 3",
   "language": "python",
   "name": "python3"
  },
  "language_info": {
   "codemirror_mode": {
    "name": "ipython",
    "version": 3
   },
   "file_extension": ".py",
   "mimetype": "text/x-python",
   "name": "python",
   "nbconvert_exporter": "python",
   "pygments_lexer": "ipython3",
   "version": "3.7.3"
  }
 },
 "nbformat": 4,
 "nbformat_minor": 2
}
